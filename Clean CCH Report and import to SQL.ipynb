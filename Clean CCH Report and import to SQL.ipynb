{
 "cells": [
  {
   "cell_type": "code",
   "execution_count": 1,
   "metadata": {},
   "outputs": [
    {
     "name": "stderr",
     "output_type": "stream",
     "text": [
      "c:\\Users\\tomda\\OneDrive\\Desktop\\Python Supper App\\Clean-CCH-Report\\lib\\transform.py:298: FutureWarning: Downcasting object dtype arrays on .fillna, .ffill, .bfill is deprecated and will change in a future version. Call result.infer_objects(copy=False) instead. To opt-in to the future behavior, set `pd.set_option('future.no_silent_downcasting', True)`\n",
      "  df.fillna(0.0, inplace=True)\n",
      "c:\\Users\\tomda\\OneDrive\\Desktop\\Python Supper App\\Clean-CCH-Report\\lib\\transform.py:298: FutureWarning: Downcasting object dtype arrays on .fillna, .ffill, .bfill is deprecated and will change in a future version. Call result.infer_objects(copy=False) instead. To opt-in to the future behavior, set `pd.set_option('future.no_silent_downcasting', True)`\n",
      "  df.fillna(0.0, inplace=True)\n",
      "c:\\Users\\tomda\\OneDrive\\Desktop\\Python Supper App\\Clean-CCH-Report\\lib\\transform.py:298: FutureWarning: Downcasting object dtype arrays on .fillna, .ffill, .bfill is deprecated and will change in a future version. Call result.infer_objects(copy=False) instead. To opt-in to the future behavior, set `pd.set_option('future.no_silent_downcasting', True)`\n",
      "  df.fillna(0.0, inplace=True)\n"
     ]
    },
    {
     "name": "stdout",
     "output_type": "stream",
     "text": [
      "OK\n",
      "OK\n",
      "OK\n"
     ]
    }
   ],
   "source": [
    "import pandas as pd\n",
    "from lib.transform import WIPARAging, CreateTableInSQLServer, WIPARRecon, StaffMonthly\n",
    "# Pull al WIPAR Aging report to table name WIPARAging\n",
    "result_df = WIPARAging(folder_path=r\"C:\\Users\\tomda\\OneDrive\\Desktop\\Python Supper App\\TPS\\WIPAR Aging\", utcFormat='Etc/GMT-6').process_files()\n",
    "CreateTableInSQLServer(SQLServerName='TOM',DBName='Test', TableName='WIPARAging', UserName='TOM', PWD='Silversea', df_data=result_df).run()\n",
    "\n",
    "# Pull all WIP AR Reconciliation report to table name WIPAR Recon\n",
    "result_df = WIPARRecon(folder_path=r\"C:\\Users\\tomda\\OneDrive\\Desktop\\Python Supper App\\TPS\\WIPAR Recon\", utcFormat='Etc/GMT-6').process_files()\n",
    "CreateTableInSQLServer(SQLServerName='TOM',DBName='Test', TableName='WIPARRecon', UserName='TOM', PWD='Silversea', df_data=result_df).run()\n",
    "\n",
    "# Pull all Staff Monthly Comparision report to table name WIPAR Recon\n",
    "result_df = StaffMonthly(folder_path=r\"C:\\Users\\tomda\\OneDrive\\Desktop\\Python Supper App\\TPS\\Staff Monthly Compare\", utcFormat='Etc/GMT-6').process_files()\n",
    "CreateTableInSQLServer(SQLServerName='TOM',DBName='Test', TableName='StaffMonthly', UserName='TOM', PWD='Silversea', df_data=result_df).run()"
   ]
  }
 ],
 "metadata": {
  "kernelspec": {
   "display_name": "venv",
   "language": "python",
   "name": "python3"
  },
  "language_info": {
   "codemirror_mode": {
    "name": "ipython",
    "version": 3
   },
   "file_extension": ".py",
   "mimetype": "text/x-python",
   "name": "python",
   "nbconvert_exporter": "python",
   "pygments_lexer": "ipython3",
   "version": "3.10.9"
  }
 },
 "nbformat": 4,
 "nbformat_minor": 2
}
