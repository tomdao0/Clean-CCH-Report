{
 "cells": [
  {
   "cell_type": "code",
   "execution_count": 1,
   "metadata": {},
   "outputs": [
    {
     "name": "stdout",
     "output_type": "stream",
     "text": [
      "OK\n",
      "OK\n"
     ]
    }
   ],
   "source": [
    "import pandas as pd\n",
    "from lib.transform import WIPARAging, CreateTableInSQLServer, WIPARRecon, StaffMonthly\n",
    "# Pull al WIPAR Aging report to table name WIPARAging\n",
    "result_df = WIPARAging(folder_path=r\"C:\\Users\\tomda\\OneDrive\\Desktop\\Python Supper App\\TPS\\WIPAR Aging\", utcFormat='Etc/GMT-6').process_files()\n",
    "CreateTableInSQLServer(SQLServerName='TOM',DBName='Test', TableName='WIPARAging', UserName='TOM', PWD='Silversea', df_data=result_df).run()\n",
    "\n",
    "# Pull all WIP AR Reconciliation report to table name WIPAR Recon\n",
    "result_df = WIPARRecon(folder_path=r\"C:\\Users\\tomda\\OneDrive\\Desktop\\Python Supper App\\TPS\\WIPAR Recon\", utcFormat='Etc/GMT-6').process_files()\n",
    "CreateTableInSQLServer(SQLServerName='TOM',DBName='Test', TableName='WIPARRecon', UserName='TOM', PWD='Silversea', df_data=result_df).run()\n",
    "\n",
    "# # Pull all Staff Monthly Comparision report to table name WIPAR Recon\n",
    "# result_df = StaffMonthly(folder_path=r\"C:\\Users\\tomda\\OneDrive\\Desktop\\Python Supper App\\TPS\\Staff Monthly Compare\", utcFormat='Etc/GMT-6').process_files()\n",
    "# CreateTableInSQLServer(SQLServerName='TOM',DBName='Test', TableName='StaffMonthly', UserName='TOM', PWD='Silversea', df_data=result_df).run()\n",
    "\n",
    "\n",
    "# CM = pd.read_excel(r\"C:\\Users\\tomda\\OneDrive\\Desktop\\Python Supper App\\TPS\\Client Manager.xlsx\")\n",
    "# SM = pd.read_excel(r\"C:\\Users\\tomda\\OneDrive\\Desktop\\Python Supper App\\TPS\\Staff Manager.xlsx\")\n",
    "# SM = SM.drop(SM.columns[0], axis=1)\n",
    "# CreateTableInSQLServer(SQLServerName='TOM',DBName='Test', TableName='ClientManager', UserName='TOM', PWD='Silversea', df_data=CM).run()\n",
    "# CreateTableInSQLServer(SQLServerName='TOM',DBName='Test', TableName='StaffManager', UserName='TOM', PWD='Silversea', df_data=SM).run()"
   ]
  }
 ],
 "metadata": {
  "kernelspec": {
   "display_name": "venv",
   "language": "python",
   "name": "python3"
  },
  "language_info": {
   "codemirror_mode": {
    "name": "ipython",
    "version": 3
   },
   "file_extension": ".py",
   "mimetype": "text/x-python",
   "name": "python",
   "nbconvert_exporter": "python",
   "pygments_lexer": "ipython3",
   "version": "3.10.9"
  }
 },
 "nbformat": 4,
 "nbformat_minor": 2
}
