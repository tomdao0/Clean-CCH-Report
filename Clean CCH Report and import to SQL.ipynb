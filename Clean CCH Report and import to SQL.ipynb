{
 "cells": [
  {
   "cell_type": "code",
   "execution_count": 2,
   "metadata": {},
   "outputs": [
    {
     "ename": "FileNotFoundError",
     "evalue": "[Errno 2] No such file or directory: 'C:\\\\Users\\\\tomda\\\\OneDrive\\\\Desktop\\\\Python\\\\Source ADS\\\\StaffList.xlsx'",
     "output_type": "error",
     "traceback": [
      "\u001b[1;31m---------------------------------------------------------------------------\u001b[0m",
      "\u001b[1;31mFileNotFoundError\u001b[0m                         Traceback (most recent call last)",
      "Cell \u001b[1;32mIn[2], line 20\u001b[0m\n\u001b[0;32m      6\u001b[0m Password \u001b[38;5;241m=\u001b[39m \u001b[38;5;124m'\u001b[39m\u001b[38;5;124mSilversea\u001b[39m\u001b[38;5;124m'\u001b[39m\n\u001b[0;32m      7\u001b[0m \u001b[38;5;66;03m# # Pull al WIPAR Aging report to table name WIPARAging\u001b[39;00m\n\u001b[0;32m      8\u001b[0m \u001b[38;5;66;03m# result_df = WIPARAging(folder_path=r\"C:\\Users\\tomda\\OneDrive\\Desktop\\Python\\Source ADS\\WIPAR_Aging\", utcFormat='Etc/GMT-6').process_files()\u001b[39;00m\n\u001b[0;32m      9\u001b[0m \u001b[38;5;66;03m# CreateTableInSQLServer(SQLServerName=SQL_SERVER,DBName=DB_Name, TableName='WIPARAging', UserName=User_Name, PWD=Password, df_data=result_df).run()\u001b[39;00m\n\u001b[1;32m   (...)\u001b[0m\n\u001b[0;32m     18\u001b[0m \n\u001b[0;32m     19\u001b[0m \u001b[38;5;66;03m# Pull Staff List report to table name StaffList\u001b[39;00m\n\u001b[1;32m---> 20\u001b[0m result_df \u001b[38;5;241m=\u001b[39m \u001b[43mStaffList\u001b[49m\u001b[43m(\u001b[49m\u001b[43mfile_path\u001b[49m\u001b[38;5;241;43m=\u001b[39;49m\u001b[38;5;124;43mr\u001b[39;49m\u001b[38;5;124;43m\"\u001b[39;49m\u001b[38;5;124;43mC:\u001b[39;49m\u001b[38;5;124;43m\\\u001b[39;49m\u001b[38;5;124;43mUsers\u001b[39;49m\u001b[38;5;124;43m\\\u001b[39;49m\u001b[38;5;124;43mtomda\u001b[39;49m\u001b[38;5;124;43m\\\u001b[39;49m\u001b[38;5;124;43mOneDrive\u001b[39;49m\u001b[38;5;124;43m\\\u001b[39;49m\u001b[38;5;124;43mDesktop\u001b[39;49m\u001b[38;5;124;43m\\\u001b[39;49m\u001b[38;5;124;43mPython\u001b[39;49m\u001b[38;5;124;43m\\\u001b[39;49m\u001b[38;5;124;43mSource ADS\u001b[39;49m\u001b[38;5;124;43m\\\u001b[39;49m\u001b[38;5;124;43mStaffList.xlsx\u001b[39;49m\u001b[38;5;124;43m\"\u001b[39;49m\u001b[43m)\u001b[49m\u001b[38;5;241;43m.\u001b[39;49m\u001b[43mprocess_files\u001b[49m\u001b[43m(\u001b[49m\u001b[43m)\u001b[49m\n\u001b[0;32m     21\u001b[0m CreateTableInSQLServer(SQLServerName\u001b[38;5;241m=\u001b[39mSQL_SERVER,DBName\u001b[38;5;241m=\u001b[39mDB_Name, TableName\u001b[38;5;241m=\u001b[39m\u001b[38;5;124m'\u001b[39m\u001b[38;5;124mStaffList\u001b[39m\u001b[38;5;124m'\u001b[39m, UserName\u001b[38;5;241m=\u001b[39mUser_Name, PWD\u001b[38;5;241m=\u001b[39mPassword, df_data\u001b[38;5;241m=\u001b[39mresult_df)\u001b[38;5;241m.\u001b[39mrun()\n\u001b[0;32m     23\u001b[0m \u001b[38;5;66;03m# # Pull ClientManager report to table name ClientManager\u001b[39;00m\n\u001b[0;32m     24\u001b[0m \u001b[38;5;66;03m# CM = pd.read_excel(r\"C:\\Users\\tomda\\OneDrive\\Desktop\\Python\\Source ADS\\ClientManager.xlsx\")\u001b[39;00m\n\u001b[0;32m     25\u001b[0m \u001b[38;5;66;03m# CreateTableInSQLServer(SQLServerName=SQL_SERVER,DBName=DB_Name, TableName='ClientManager', UserName=User_Name, PWD=Password, df_data=CM).run()\u001b[39;00m\n\u001b[1;32m   (...)\u001b[0m\n\u001b[0;32m     32\u001b[0m \u001b[38;5;66;03m# result_df = ARBalanceListing(folder_path=r\"C:\\Users\\tomda\\OneDrive\\Desktop\\Python\\Source ADS\\AR_Balance_Listing\", utcFormat='Etc/GMT-6').process_files()\u001b[39;00m\n\u001b[0;32m     33\u001b[0m \u001b[38;5;66;03m# CreateTableInSQLServer(SQLServerName=SQL_SERVER,DBName=DB_Name, TableName='ARBalanceListing', UserName=User_Name, PWD=Password, df_data=result_df).run()\u001b[39;00m\n",
      "File \u001b[1;32mc:\\Users\\tomda\\OneDrive\\Desktop\\Python\\Clean-CCH-Report\\lib\\transform.py:272\u001b[0m, in \u001b[0;36mStaffList.process_files\u001b[1;34m(self)\u001b[0m\n\u001b[0;32m    269\u001b[0m \u001b[38;5;28;01mdef\u001b[39;00m \u001b[38;5;21mprocess_files\u001b[39m(\u001b[38;5;28mself\u001b[39m):\n\u001b[0;32m    270\u001b[0m     \u001b[38;5;66;03m# Process each Staff\u001b[39;00m\n\u001b[0;32m    271\u001b[0m     file_path \u001b[38;5;241m=\u001b[39m \u001b[38;5;28mself\u001b[39m\u001b[38;5;241m.\u001b[39mfile_path\n\u001b[1;32m--> 272\u001b[0m     wb \u001b[38;5;241m=\u001b[39m \u001b[43mopenpyxl\u001b[49m\u001b[38;5;241;43m.\u001b[39;49m\u001b[43mload_workbook\u001b[49m\u001b[43m(\u001b[49m\u001b[43mfile_path\u001b[49m\u001b[43m)\u001b[49m\n\u001b[0;32m    273\u001b[0m     sheet \u001b[38;5;241m=\u001b[39m wb\u001b[38;5;241m.\u001b[39mworksheets[\u001b[38;5;241m1\u001b[39m]\n\u001b[0;32m    274\u001b[0m     last_row \u001b[38;5;241m=\u001b[39m sheet\u001b[38;5;241m.\u001b[39mmax_row\n",
      "File \u001b[1;32mc:\\Users\\tomda\\OneDrive\\Desktop\\Python\\venv\\lib\\site-packages\\openpyxl\\reader\\excel.py:346\u001b[0m, in \u001b[0;36mload_workbook\u001b[1;34m(filename, read_only, keep_vba, data_only, keep_links, rich_text)\u001b[0m\n\u001b[0;32m    316\u001b[0m \u001b[38;5;28;01mdef\u001b[39;00m \u001b[38;5;21mload_workbook\u001b[39m(filename, read_only\u001b[38;5;241m=\u001b[39m\u001b[38;5;28;01mFalse\u001b[39;00m, keep_vba\u001b[38;5;241m=\u001b[39mKEEP_VBA,\n\u001b[0;32m    317\u001b[0m                   data_only\u001b[38;5;241m=\u001b[39m\u001b[38;5;28;01mFalse\u001b[39;00m, keep_links\u001b[38;5;241m=\u001b[39m\u001b[38;5;28;01mTrue\u001b[39;00m, rich_text\u001b[38;5;241m=\u001b[39m\u001b[38;5;28;01mFalse\u001b[39;00m):\n\u001b[0;32m    318\u001b[0m \u001b[38;5;250m    \u001b[39m\u001b[38;5;124;03m\"\"\"Open the given filename and return the workbook\u001b[39;00m\n\u001b[0;32m    319\u001b[0m \n\u001b[0;32m    320\u001b[0m \u001b[38;5;124;03m    :param filename: the path to open or a file-like object\u001b[39;00m\n\u001b[1;32m   (...)\u001b[0m\n\u001b[0;32m    344\u001b[0m \n\u001b[0;32m    345\u001b[0m \u001b[38;5;124;03m    \"\"\"\u001b[39;00m\n\u001b[1;32m--> 346\u001b[0m     reader \u001b[38;5;241m=\u001b[39m \u001b[43mExcelReader\u001b[49m\u001b[43m(\u001b[49m\u001b[43mfilename\u001b[49m\u001b[43m,\u001b[49m\u001b[43m \u001b[49m\u001b[43mread_only\u001b[49m\u001b[43m,\u001b[49m\u001b[43m \u001b[49m\u001b[43mkeep_vba\u001b[49m\u001b[43m,\u001b[49m\n\u001b[0;32m    347\u001b[0m \u001b[43m                         \u001b[49m\u001b[43mdata_only\u001b[49m\u001b[43m,\u001b[49m\u001b[43m \u001b[49m\u001b[43mkeep_links\u001b[49m\u001b[43m,\u001b[49m\u001b[43m \u001b[49m\u001b[43mrich_text\u001b[49m\u001b[43m)\u001b[49m\n\u001b[0;32m    348\u001b[0m     reader\u001b[38;5;241m.\u001b[39mread()\n\u001b[0;32m    349\u001b[0m     \u001b[38;5;28;01mreturn\u001b[39;00m reader\u001b[38;5;241m.\u001b[39mwb\n",
      "File \u001b[1;32mc:\\Users\\tomda\\OneDrive\\Desktop\\Python\\venv\\lib\\site-packages\\openpyxl\\reader\\excel.py:123\u001b[0m, in \u001b[0;36mExcelReader.__init__\u001b[1;34m(self, fn, read_only, keep_vba, data_only, keep_links, rich_text)\u001b[0m\n\u001b[0;32m    121\u001b[0m \u001b[38;5;28;01mdef\u001b[39;00m \u001b[38;5;21m__init__\u001b[39m(\u001b[38;5;28mself\u001b[39m, fn, read_only\u001b[38;5;241m=\u001b[39m\u001b[38;5;28;01mFalse\u001b[39;00m, keep_vba\u001b[38;5;241m=\u001b[39mKEEP_VBA,\n\u001b[0;32m    122\u001b[0m              data_only\u001b[38;5;241m=\u001b[39m\u001b[38;5;28;01mFalse\u001b[39;00m, keep_links\u001b[38;5;241m=\u001b[39m\u001b[38;5;28;01mTrue\u001b[39;00m, rich_text\u001b[38;5;241m=\u001b[39m\u001b[38;5;28;01mFalse\u001b[39;00m):\n\u001b[1;32m--> 123\u001b[0m     \u001b[38;5;28mself\u001b[39m\u001b[38;5;241m.\u001b[39marchive \u001b[38;5;241m=\u001b[39m \u001b[43m_validate_archive\u001b[49m\u001b[43m(\u001b[49m\u001b[43mfn\u001b[49m\u001b[43m)\u001b[49m\n\u001b[0;32m    124\u001b[0m     \u001b[38;5;28mself\u001b[39m\u001b[38;5;241m.\u001b[39mvalid_files \u001b[38;5;241m=\u001b[39m \u001b[38;5;28mself\u001b[39m\u001b[38;5;241m.\u001b[39marchive\u001b[38;5;241m.\u001b[39mnamelist()\n\u001b[0;32m    125\u001b[0m     \u001b[38;5;28mself\u001b[39m\u001b[38;5;241m.\u001b[39mread_only \u001b[38;5;241m=\u001b[39m read_only\n",
      "File \u001b[1;32mc:\\Users\\tomda\\OneDrive\\Desktop\\Python\\venv\\lib\\site-packages\\openpyxl\\reader\\excel.py:95\u001b[0m, in \u001b[0;36m_validate_archive\u001b[1;34m(filename)\u001b[0m\n\u001b[0;32m     88\u001b[0m             msg \u001b[38;5;241m=\u001b[39m (\u001b[38;5;124m'\u001b[39m\u001b[38;5;124mopenpyxl does not support \u001b[39m\u001b[38;5;132;01m%s\u001b[39;00m\u001b[38;5;124m file format, \u001b[39m\u001b[38;5;124m'\u001b[39m\n\u001b[0;32m     89\u001b[0m                    \u001b[38;5;124m'\u001b[39m\u001b[38;5;124mplease check you can open \u001b[39m\u001b[38;5;124m'\u001b[39m\n\u001b[0;32m     90\u001b[0m                    \u001b[38;5;124m'\u001b[39m\u001b[38;5;124mit with Excel first. \u001b[39m\u001b[38;5;124m'\u001b[39m\n\u001b[0;32m     91\u001b[0m                    \u001b[38;5;124m'\u001b[39m\u001b[38;5;124mSupported formats are: \u001b[39m\u001b[38;5;132;01m%s\u001b[39;00m\u001b[38;5;124m'\u001b[39m) \u001b[38;5;241m%\u001b[39m (file_format,\n\u001b[0;32m     92\u001b[0m                                                    \u001b[38;5;124m'\u001b[39m\u001b[38;5;124m,\u001b[39m\u001b[38;5;124m'\u001b[39m\u001b[38;5;241m.\u001b[39mjoin(SUPPORTED_FORMATS))\n\u001b[0;32m     93\u001b[0m         \u001b[38;5;28;01mraise\u001b[39;00m InvalidFileException(msg)\n\u001b[1;32m---> 95\u001b[0m archive \u001b[38;5;241m=\u001b[39m \u001b[43mZipFile\u001b[49m\u001b[43m(\u001b[49m\u001b[43mfilename\u001b[49m\u001b[43m,\u001b[49m\u001b[43m \u001b[49m\u001b[38;5;124;43m'\u001b[39;49m\u001b[38;5;124;43mr\u001b[39;49m\u001b[38;5;124;43m'\u001b[39;49m\u001b[43m)\u001b[49m\n\u001b[0;32m     96\u001b[0m \u001b[38;5;28;01mreturn\u001b[39;00m archive\n",
      "File \u001b[1;32m~\\AppData\\Local\\Programs\\Python\\Python310\\lib\\zipfile.py:1249\u001b[0m, in \u001b[0;36mZipFile.__init__\u001b[1;34m(self, file, mode, compression, allowZip64, compresslevel, strict_timestamps)\u001b[0m\n\u001b[0;32m   1247\u001b[0m \u001b[38;5;28;01mwhile\u001b[39;00m \u001b[38;5;28;01mTrue\u001b[39;00m:\n\u001b[0;32m   1248\u001b[0m     \u001b[38;5;28;01mtry\u001b[39;00m:\n\u001b[1;32m-> 1249\u001b[0m         \u001b[38;5;28mself\u001b[39m\u001b[38;5;241m.\u001b[39mfp \u001b[38;5;241m=\u001b[39m \u001b[43mio\u001b[49m\u001b[38;5;241;43m.\u001b[39;49m\u001b[43mopen\u001b[49m\u001b[43m(\u001b[49m\u001b[43mfile\u001b[49m\u001b[43m,\u001b[49m\u001b[43m \u001b[49m\u001b[43mfilemode\u001b[49m\u001b[43m)\u001b[49m\n\u001b[0;32m   1250\u001b[0m     \u001b[38;5;28;01mexcept\u001b[39;00m \u001b[38;5;167;01mOSError\u001b[39;00m:\n\u001b[0;32m   1251\u001b[0m         \u001b[38;5;28;01mif\u001b[39;00m filemode \u001b[38;5;129;01min\u001b[39;00m modeDict:\n",
      "\u001b[1;31mFileNotFoundError\u001b[0m: [Errno 2] No such file or directory: 'C:\\\\Users\\\\tomda\\\\OneDrive\\\\Desktop\\\\Python\\\\Source ADS\\\\StaffList.xlsx'"
     ]
    }
   ],
   "source": [
    "import pandas as pd\n",
    "from lib.transform import WIPARAging, CreateTableInSQLServer, WIPARRecon, StaffMonthly, StaffList, StaffPosted, ARBalanceListing\n",
    "SQL_SERVER = 'TOM'\n",
    "DB_Name = 'ACS'\n",
    "User_Name = 'TOM'\n",
    "Password = 'Silversea'\n",
    "# # Pull al WIPAR Aging report to table name WIPARAging\n",
    "# result_df = WIPARAging(folder_path=r\"C:\\Users\\tomda\\OneDrive\\Desktop\\Python\\Source ACS\\WIPAR_Aging\", utcFormat='Etc/GMT-6').process_files()\n",
    "# CreateTableInSQLServer(SQLServerName=SQL_SERVER,DBName=DB_Name, TableName='WIPARAging', UserName=User_Name, PWD=Password, df_data=result_df).run()\n",
    "\n",
    "# # Pull all WIP AR Reconciliation report to table name WIPAR Recon\n",
    "# result_df = WIPARRecon(folder_path=r\"C:\\Users\\tomda\\OneDrive\\Desktop\\Python\\Source ACS\\WIPAR_Reconciliation\", utcFormat='Etc/GMT-6').process_files()\n",
    "# CreateTableInSQLServer(SQLServerName=SQL_SERVER,DBName=DB_Name, TableName='WIPARRecon', UserName=User_Name, PWD=Password, df_data=result_df).run()\n",
    "\n",
    "# # Pull all Staff Monthly Comparision report to table name WIPAR Recon\n",
    "# result_df = StaffMonthly(folder_path=r\"C:\\Users\\tomda\\OneDrive\\Desktop\\Python\\Source ACS\\Staff_Monthly_Comparison\", utcFormat='Etc/GMT-6').process_files()\n",
    "# CreateTableInSQLServer(SQLServerName=SQL_SERVER,DBName=DB_Name, TableName='StaffMonthly', UserName=User_Name, PWD=Password, df_data=result_df).run()\n",
    "\n",
    "# Pull Staff List report to table name StaffList\n",
    "result_df = StaffList(file_path=r\"C:\\Users\\tomda\\OneDrive\\Desktop\\Python\\Source ACS\\StaffList.xlsx\").process_files()\n",
    "CreateTableInSQLServer(SQLServerName=SQL_SERVER,DBName=DB_Name, TableName='StaffList', UserName=User_Name, PWD=Password, df_data=result_df).run()\n",
    "\n",
    "# # Pull ClientManager report to table name ClientManager\n",
    "# CM = pd.read_excel(r\"C:\\Users\\tomda\\OneDrive\\Desktop\\Python\\Source ACS\\ClientManager.xlsx\")\n",
    "# CreateTableInSQLServer(SQLServerName=SQL_SERVER,DBName=DB_Name, TableName='ClientManager', UserName=User_Name, PWD=Password, df_data=CM).run()\n",
    "\n",
    "# # Pull all StaffPosted report to table name StaffPosted\n",
    "# result_df = StaffPosted(folder_path=r\"C:\\Users\\tomda\\OneDrive\\Desktop\\Python\\Source ACS\\Staff_Posted_Summary\", utcFormat='Etc/GMT-6').process_files()\n",
    "# CreateTableInSQLServer(SQLServerName=SQL_SERVER,DBName=DB_Name, TableName='StaffPosted', UserName=User_Name, PWD=Password, df_data=result_df).run()\n",
    "\n",
    "# # Pull all AR Balance Listing report to table name ARBalanceListing\n",
    "# result_df = ARBalanceListing(folder_path=r\"C:\\Users\\tomda\\OneDrive\\Desktop\\Python\\Source ACS\\AR_Balance_Listing\", utcFormat='Etc/GMT-6').process_files()\n",
    "# CreateTableInSQLServer(SQLServerName=SQL_SERVER,DBName=DB_Name, TableName='ARBalanceListing', UserName=User_Name, PWD=Password, df_data=result_df).run()"
   ]
  }
 ],
 "metadata": {
  "kernelspec": {
   "display_name": "venv",
   "language": "python",
   "name": "python3"
  },
  "language_info": {
   "codemirror_mode": {
    "name": "ipython",
    "version": 3
   },
   "file_extension": ".py",
   "mimetype": "text/x-python",
   "name": "python",
   "nbconvert_exporter": "python",
   "pygments_lexer": "ipython3",
   "version": "3.10.9"
  }
 },
 "nbformat": 4,
 "nbformat_minor": 2
}
