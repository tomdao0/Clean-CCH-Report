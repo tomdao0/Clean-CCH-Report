{
 "cells": [
  {
   "cell_type": "code",
   "execution_count": 1,
   "metadata": {},
   "outputs": [
    {
     "data": {
      "text/html": [
       "<div>\n",
       "<style scoped>\n",
       "    .dataframe tbody tr th:only-of-type {\n",
       "        vertical-align: middle;\n",
       "    }\n",
       "\n",
       "    .dataframe tbody tr th {\n",
       "        vertical-align: top;\n",
       "    }\n",
       "\n",
       "    .dataframe thead th {\n",
       "        text-align: right;\n",
       "    }\n",
       "</style>\n",
       "<table border=\"1\" class=\"dataframe\">\n",
       "  <thead>\n",
       "    <tr style=\"text-align: right;\">\n",
       "      <th></th>\n",
       "      <th>ClientIdSubId</th>\n",
       "      <th>TransactionDate</th>\n",
       "      <th>Type</th>\n",
       "      <th>TransNumber</th>\n",
       "      <th>AppliedNumber</th>\n",
       "      <th>Amount</th>\n",
       "    </tr>\n",
       "  </thead>\n",
       "  <tbody>\n",
       "    <tr>\n",
       "      <th>0</th>\n",
       "      <td>000000146</td>\n",
       "      <td>2024-02-01</td>\n",
       "      <td>Invoice</td>\n",
       "      <td>242986</td>\n",
       "      <td>242986</td>\n",
       "      <td>2008.24</td>\n",
       "    </tr>\n",
       "    <tr>\n",
       "      <th>1</th>\n",
       "      <td>000000146</td>\n",
       "      <td>2023-05-04</td>\n",
       "      <td>Invoice</td>\n",
       "      <td>240023</td>\n",
       "      <td>240023</td>\n",
       "      <td>1350</td>\n",
       "    </tr>\n",
       "    <tr>\n",
       "      <th>2</th>\n",
       "      <td>000000146</td>\n",
       "      <td>2024-05-01</td>\n",
       "      <td>Invoice</td>\n",
       "      <td>244421</td>\n",
       "      <td>244421</td>\n",
       "      <td>1350</td>\n",
       "    </tr>\n",
       "    <tr>\n",
       "      <th>3</th>\n",
       "      <td>000000146</td>\n",
       "      <td>2022-09-28</td>\n",
       "      <td>Invoice</td>\n",
       "      <td>236102</td>\n",
       "      <td>236102</td>\n",
       "      <td>1200</td>\n",
       "    </tr>\n",
       "    <tr>\n",
       "      <th>4</th>\n",
       "      <td>000000146</td>\n",
       "      <td>2024-03-07</td>\n",
       "      <td>Payment</td>\n",
       "      <td>None</td>\n",
       "      <td>242986</td>\n",
       "      <td>-201.25</td>\n",
       "    </tr>\n",
       "  </tbody>\n",
       "</table>\n",
       "</div>"
      ],
      "text/plain": [
       "  ClientIdSubId TransactionDate     Type TransNumber AppliedNumber   Amount\n",
       "0     000000146      2024-02-01  Invoice      242986        242986  2008.24\n",
       "1     000000146      2023-05-04  Invoice      240023        240023     1350\n",
       "2     000000146      2024-05-01  Invoice      244421        244421     1350\n",
       "3     000000146      2022-09-28  Invoice      236102        236102     1200\n",
       "4     000000146      2024-03-07  Payment        None        242986  -201.25"
      ]
     },
     "execution_count": 1,
     "metadata": {},
     "output_type": "execute_result"
    }
   ],
   "source": [
    "from lib.transform import ARBalanceListing\n",
    "test = ARBalanceListing(r\"C:\\Users\\tomda\\OneDrive\\Desktop\\Python\\Source ACS\\AR_Balance_Listing\").process_files()\n",
    "test.head()"
   ]
  }
 ],
 "metadata": {
  "kernelspec": {
   "display_name": "venv",
   "language": "python",
   "name": "python3"
  },
  "language_info": {
   "codemirror_mode": {
    "name": "ipython",
    "version": 3
   },
   "file_extension": ".py",
   "mimetype": "text/x-python",
   "name": "python",
   "nbconvert_exporter": "python",
   "pygments_lexer": "ipython3",
   "version": "3.12.6"
  }
 },
 "nbformat": 4,
 "nbformat_minor": 2
}
